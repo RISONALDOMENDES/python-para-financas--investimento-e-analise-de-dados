{
 "cells": [
  {
   "cell_type": "markdown",
   "metadata": {},
   "source": [
    "## Calculating the Return of a Portfolio of Securities"
   ]
  },
  {
   "cell_type": "markdown",
   "metadata": {},
   "source": [
    "Download data for a portfolio composed of 5 stocks. Do it for British Petroleum, Ford, Exxon, Lincoln, and Apple for the period ‘2002-1-1’ until today."
   ]
  },
  {
   "cell_type": "code",
   "execution_count": 4,
   "metadata": {
    "collapsed": true
   },
   "outputs": [],
   "source": [
    "import numpy as np\n",
    "import pandas as pd\n",
    "import pandas_datareader.data as pdr\n",
    "import matplotlib.pyplot as plt\n",
    "import yfinance\n",
    "\n",
    "yfinance.pdr_override()\n"
   ]
  },
  {
   "cell_type": "code",
   "execution_count": 10,
   "metadata": {},
   "outputs": [
    {
     "name": "stderr",
     "output_type": "stream",
     "text": [
      "[*********************100%%**********************]  4 of 4 completed\n"
     ]
    },
    {
     "data": {
      "text/html": [
       "<div>\n",
       "<style scoped>\n",
       "    .dataframe tbody tr th:only-of-type {\n",
       "        vertical-align: middle;\n",
       "    }\n",
       "\n",
       "    .dataframe tbody tr th {\n",
       "        vertical-align: top;\n",
       "    }\n",
       "\n",
       "    .dataframe thead th {\n",
       "        text-align: right;\n",
       "    }\n",
       "</style>\n",
       "<table border=\"1\" class=\"dataframe\">\n",
       "  <thead>\n",
       "    <tr style=\"text-align: right;\">\n",
       "      <th>Ticker</th>\n",
       "      <th>ITSA4.SA</th>\n",
       "      <th>KLBN3.SA</th>\n",
       "      <th>RAIZ4.SA</th>\n",
       "      <th>^BVSP</th>\n",
       "    </tr>\n",
       "    <tr>\n",
       "      <th>Date</th>\n",
       "      <th></th>\n",
       "      <th></th>\n",
       "      <th></th>\n",
       "      <th></th>\n",
       "    </tr>\n",
       "  </thead>\n",
       "  <tbody>\n",
       "    <tr>\n",
       "      <th>2023-01-02</th>\n",
       "      <td>7.212890</td>\n",
       "      <td>3.747851</td>\n",
       "      <td>3.320465</td>\n",
       "      <td>106376.0</td>\n",
       "    </tr>\n",
       "    <tr>\n",
       "      <th>2023-01-03</th>\n",
       "      <td>7.031705</td>\n",
       "      <td>3.766451</td>\n",
       "      <td>3.132868</td>\n",
       "      <td>104166.0</td>\n",
       "    </tr>\n",
       "    <tr>\n",
       "      <th>2023-01-04</th>\n",
       "      <td>7.092100</td>\n",
       "      <td>3.812950</td>\n",
       "      <td>3.114108</td>\n",
       "      <td>105334.0</td>\n",
       "    </tr>\n",
       "    <tr>\n",
       "      <th>2023-01-05</th>\n",
       "      <td>7.195636</td>\n",
       "      <td>3.822249</td>\n",
       "      <td>3.029690</td>\n",
       "      <td>107518.0</td>\n",
       "    </tr>\n",
       "    <tr>\n",
       "      <th>2023-01-06</th>\n",
       "      <td>7.316425</td>\n",
       "      <td>3.785050</td>\n",
       "      <td>3.020310</td>\n",
       "      <td>108836.0</td>\n",
       "    </tr>\n",
       "    <tr>\n",
       "      <th>...</th>\n",
       "      <td>...</td>\n",
       "      <td>...</td>\n",
       "      <td>...</td>\n",
       "      <td>...</td>\n",
       "    </tr>\n",
       "    <tr>\n",
       "      <th>2023-12-21</th>\n",
       "      <td>9.795241</td>\n",
       "      <td>4.323721</td>\n",
       "      <td>4.030000</td>\n",
       "      <td>132182.0</td>\n",
       "    </tr>\n",
       "    <tr>\n",
       "      <th>2023-12-22</th>\n",
       "      <td>9.940716</td>\n",
       "      <td>4.344549</td>\n",
       "      <td>4.200000</td>\n",
       "      <td>132753.0</td>\n",
       "    </tr>\n",
       "    <tr>\n",
       "      <th>2023-12-26</th>\n",
       "      <td>9.969810</td>\n",
       "      <td>4.364387</td>\n",
       "      <td>4.140000</td>\n",
       "      <td>133533.0</td>\n",
       "    </tr>\n",
       "    <tr>\n",
       "      <th>2023-12-27</th>\n",
       "      <td>10.047396</td>\n",
       "      <td>4.374306</td>\n",
       "      <td>4.060000</td>\n",
       "      <td>134194.0</td>\n",
       "    </tr>\n",
       "    <tr>\n",
       "      <th>2023-12-28</th>\n",
       "      <td>10.057094</td>\n",
       "      <td>4.384225</td>\n",
       "      <td>4.030000</td>\n",
       "      <td>134185.0</td>\n",
       "    </tr>\n",
       "  </tbody>\n",
       "</table>\n",
       "<p>248 rows × 4 columns</p>\n",
       "</div>"
      ],
      "text/plain": [
       "Ticker       ITSA4.SA  KLBN3.SA  RAIZ4.SA     ^BVSP\n",
       "Date                                               \n",
       "2023-01-02   7.212890  3.747851  3.320465  106376.0\n",
       "2023-01-03   7.031705  3.766451  3.132868  104166.0\n",
       "2023-01-04   7.092100  3.812950  3.114108  105334.0\n",
       "2023-01-05   7.195636  3.822249  3.029690  107518.0\n",
       "2023-01-06   7.316425  3.785050  3.020310  108836.0\n",
       "...               ...       ...       ...       ...\n",
       "2023-12-21   9.795241  4.323721  4.030000  132182.0\n",
       "2023-12-22   9.940716  4.344549  4.200000  132753.0\n",
       "2023-12-26   9.969810  4.364387  4.140000  133533.0\n",
       "2023-12-27  10.047396  4.374306  4.060000  134194.0\n",
       "2023-12-28  10.057094  4.384225  4.030000  134185.0\n",
       "\n",
       "[248 rows x 4 columns]"
      ]
     },
     "metadata": {},
     "output_type": "display_data"
    }
   ],
   "source": [
    "ativos = ['ITSA4.SA', 'RAIZ4.SA', '^BVSP', 'KLBN3.SA']\n",
    "\n",
    "data_inicial = \"2023-01-02\"\n",
    "data_final = \"2023-12-30\"\n",
    "\n",
    "tabela_cotacoes = pdr.get_data_yahoo(ativos, data_inicial, data_final)['Adj Close'];\n",
    "\n",
    "display(tabela_cotacoes);"
   ]
  },
  {
   "cell_type": "markdown",
   "metadata": {},
   "source": [
    "### Normalization to 100:\n",
    "\n",
    "$$\n",
    "\\frac {P_t}{P_0} * 100\n",
    "$$"
   ]
  },
  {
   "cell_type": "markdown",
   "metadata": {},
   "source": [
    "Normalize to a hundred and plot the data on a graph (you can apply the .loc() or the .iloc() method). "
   ]
  },
  {
   "cell_type": "code",
   "execution_count": 14,
   "metadata": {
    "collapsed": true
   },
   "outputs": [
    {
     "data": {
      "text/html": [
       "<div>\n",
       "<style scoped>\n",
       "    .dataframe tbody tr th:only-of-type {\n",
       "        vertical-align: middle;\n",
       "    }\n",
       "\n",
       "    .dataframe tbody tr th {\n",
       "        vertical-align: top;\n",
       "    }\n",
       "\n",
       "    .dataframe thead th {\n",
       "        text-align: right;\n",
       "    }\n",
       "</style>\n",
       "<table border=\"1\" class=\"dataframe\">\n",
       "  <thead>\n",
       "    <tr style=\"text-align: right;\">\n",
       "      <th>Ticker</th>\n",
       "      <th>ITSA4.SA</th>\n",
       "      <th>KLBN3.SA</th>\n",
       "      <th>RAIZ4.SA</th>\n",
       "      <th>^BVSP</th>\n",
       "    </tr>\n",
       "    <tr>\n",
       "      <th>Date</th>\n",
       "      <th></th>\n",
       "      <th></th>\n",
       "      <th></th>\n",
       "      <th></th>\n",
       "    </tr>\n",
       "  </thead>\n",
       "  <tbody>\n",
       "    <tr>\n",
       "      <th>2023-01-02</th>\n",
       "      <td>1.000000</td>\n",
       "      <td>1.000000</td>\n",
       "      <td>1.000000</td>\n",
       "      <td>1.000000</td>\n",
       "    </tr>\n",
       "    <tr>\n",
       "      <th>2023-01-03</th>\n",
       "      <td>0.974880</td>\n",
       "      <td>1.004963</td>\n",
       "      <td>0.943503</td>\n",
       "      <td>0.979225</td>\n",
       "    </tr>\n",
       "    <tr>\n",
       "      <th>2023-01-04</th>\n",
       "      <td>0.983254</td>\n",
       "      <td>1.017370</td>\n",
       "      <td>0.937853</td>\n",
       "      <td>0.990205</td>\n",
       "    </tr>\n",
       "    <tr>\n",
       "      <th>2023-01-05</th>\n",
       "      <td>0.997608</td>\n",
       "      <td>1.019851</td>\n",
       "      <td>0.912429</td>\n",
       "      <td>1.010736</td>\n",
       "    </tr>\n",
       "    <tr>\n",
       "      <th>2023-01-06</th>\n",
       "      <td>1.014354</td>\n",
       "      <td>1.009926</td>\n",
       "      <td>0.909605</td>\n",
       "      <td>1.023126</td>\n",
       "    </tr>\n",
       "    <tr>\n",
       "      <th>...</th>\n",
       "      <td>...</td>\n",
       "      <td>...</td>\n",
       "      <td>...</td>\n",
       "      <td>...</td>\n",
       "    </tr>\n",
       "    <tr>\n",
       "      <th>2023-12-21</th>\n",
       "      <td>1.358019</td>\n",
       "      <td>1.153654</td>\n",
       "      <td>1.213686</td>\n",
       "      <td>1.242592</td>\n",
       "    </tr>\n",
       "    <tr>\n",
       "      <th>2023-12-22</th>\n",
       "      <td>1.378188</td>\n",
       "      <td>1.159211</td>\n",
       "      <td>1.264883</td>\n",
       "      <td>1.247960</td>\n",
       "    </tr>\n",
       "    <tr>\n",
       "      <th>2023-12-26</th>\n",
       "      <td>1.382221</td>\n",
       "      <td>1.164504</td>\n",
       "      <td>1.246813</td>\n",
       "      <td>1.255293</td>\n",
       "    </tr>\n",
       "    <tr>\n",
       "      <th>2023-12-27</th>\n",
       "      <td>1.392978</td>\n",
       "      <td>1.167150</td>\n",
       "      <td>1.222720</td>\n",
       "      <td>1.261506</td>\n",
       "    </tr>\n",
       "    <tr>\n",
       "      <th>2023-12-28</th>\n",
       "      <td>1.394322</td>\n",
       "      <td>1.169797</td>\n",
       "      <td>1.213686</td>\n",
       "      <td>1.261422</td>\n",
       "    </tr>\n",
       "  </tbody>\n",
       "</table>\n",
       "<p>248 rows × 4 columns</p>\n",
       "</div>"
      ],
      "text/plain": [
       "Ticker      ITSA4.SA  KLBN3.SA  RAIZ4.SA     ^BVSP\n",
       "Date                                              \n",
       "2023-01-02  1.000000  1.000000  1.000000  1.000000\n",
       "2023-01-03  0.974880  1.004963  0.943503  0.979225\n",
       "2023-01-04  0.983254  1.017370  0.937853  0.990205\n",
       "2023-01-05  0.997608  1.019851  0.912429  1.010736\n",
       "2023-01-06  1.014354  1.009926  0.909605  1.023126\n",
       "...              ...       ...       ...       ...\n",
       "2023-12-21  1.358019  1.153654  1.213686  1.242592\n",
       "2023-12-22  1.378188  1.159211  1.264883  1.247960\n",
       "2023-12-26  1.382221  1.164504  1.246813  1.255293\n",
       "2023-12-27  1.392978  1.167150  1.222720  1.261506\n",
       "2023-12-28  1.394322  1.169797  1.213686  1.261422\n",
       "\n",
       "[248 rows x 4 columns]"
      ]
     },
     "metadata": {},
     "output_type": "display_data"
    }
   ],
   "source": [
    "tabela_cotacoes_normalizada = (tabela_cotacoes / tabela_cotacoes.iloc[0])\n",
    "\n",
    "display(tabela_cotacoes_normalizada)"
   ]
  },
  {
   "cell_type": "code",
   "execution_count": 12,
   "metadata": {},
   "outputs": [
    {
     "data": {
      "text/plain": [
       "<Axes: xlabel='Date'>"
      ]
     },
     "execution_count": 12,
     "metadata": {},
     "output_type": "execute_result"
    },
    {
     "data": {
      "image/png": "[encoded data removed]",
      "text/plain": [
       "<Figure size 640x480 with 1 Axes>"
      ]
     },
     "metadata": {},
     "output_type": "display_data"
    }
   ],
   "source": [
    "tabela_cotacoes_normalizada.plot()"
   ]
  },
  {
   "cell_type": "code",
   "execution_count": 17,
   "metadata": {
    "collapsed": true
   },
   "outputs": [
    {
     "data": {
      "text/html": [
       "<div>\n",
       "<style scoped>\n",
       "    .dataframe tbody tr th:only-of-type {\n",
       "        vertical-align: middle;\n",
       "    }\n",
       "\n",
       "    .dataframe tbody tr th {\n",
       "        vertical-align: top;\n",
       "    }\n",
       "\n",
       "    .dataframe thead th {\n",
       "        text-align: right;\n",
       "    }\n",
       "</style>\n",
       "<table border=\"1\" class=\"dataframe\">\n",
       "  <thead>\n",
       "    <tr style=\"text-align: right;\">\n",
       "      <th>Ticker</th>\n",
       "      <th>ITSA4.SA</th>\n",
       "      <th>KLBN3.SA</th>\n",
       "      <th>RAIZ4.SA</th>\n",
       "      <th>^BVSP</th>\n",
       "    </tr>\n",
       "    <tr>\n",
       "      <th>Date</th>\n",
       "      <th></th>\n",
       "      <th></th>\n",
       "      <th></th>\n",
       "      <th></th>\n",
       "    </tr>\n",
       "  </thead>\n",
       "  <tbody>\n",
       "    <tr>\n",
       "      <th>2023-12-21</th>\n",
       "      <td>0.007984</td>\n",
       "      <td>0.011521</td>\n",
       "      <td>0.020837</td>\n",
       "      <td>0.010535</td>\n",
       "    </tr>\n",
       "    <tr>\n",
       "      <th>2023-12-22</th>\n",
       "      <td>0.014852</td>\n",
       "      <td>0.004817</td>\n",
       "      <td>0.042184</td>\n",
       "      <td>0.004320</td>\n",
       "    </tr>\n",
       "    <tr>\n",
       "      <th>2023-12-26</th>\n",
       "      <td>0.002927</td>\n",
       "      <td>0.004566</td>\n",
       "      <td>-0.014286</td>\n",
       "      <td>0.005876</td>\n",
       "    </tr>\n",
       "    <tr>\n",
       "      <th>2023-12-27</th>\n",
       "      <td>0.007782</td>\n",
       "      <td>0.002273</td>\n",
       "      <td>-0.019324</td>\n",
       "      <td>0.004950</td>\n",
       "    </tr>\n",
       "    <tr>\n",
       "      <th>2023-12-28</th>\n",
       "      <td>0.000965</td>\n",
       "      <td>0.002268</td>\n",
       "      <td>-0.007389</td>\n",
       "      <td>-0.000067</td>\n",
       "    </tr>\n",
       "  </tbody>\n",
       "</table>\n",
       "</div>"
      ],
      "text/plain": [
       "Ticker      ITSA4.SA  KLBN3.SA  RAIZ4.SA     ^BVSP\n",
       "Date                                              \n",
       "2023-12-21  0.007984  0.011521  0.020837  0.010535\n",
       "2023-12-22  0.014852  0.004817  0.042184  0.004320\n",
       "2023-12-26  0.002927  0.004566 -0.014286  0.005876\n",
       "2023-12-27  0.007782  0.002273 -0.019324  0.004950\n",
       "2023-12-28  0.000965  0.002268 -0.007389 -0.000067"
      ]
     },
     "execution_count": 17,
     "metadata": {},
     "output_type": "execute_result"
    }
   ],
   "source": [
    "ind_return = (tabela_cotacoes / tabela_cotacoes.shift(1)) - 1\n",
    "\n",
    "ind_return.head()\n"
   ]
  },
  {
   "cell_type": "code",
   "execution_count": 18,
   "metadata": {},
   "outputs": [
    {
     "data": {
      "text/html": [
       "<div>\n",
       "<style scoped>\n",
       "    .dataframe tbody tr th:only-of-type {\n",
       "        vertical-align: middle;\n",
       "    }\n",
       "\n",
       "    .dataframe tbody tr th {\n",
       "        vertical-align: top;\n",
       "    }\n",
       "\n",
       "    .dataframe thead th {\n",
       "        text-align: right;\n",
       "    }\n",
       "</style>\n",
       "<table border=\"1\" class=\"dataframe\">\n",
       "  <thead>\n",
       "    <tr style=\"text-align: right;\">\n",
       "      <th>Ticker</th>\n",
       "      <th>ITSA4.SA</th>\n",
       "      <th>KLBN3.SA</th>\n",
       "      <th>RAIZ4.SA</th>\n",
       "      <th>^BVSP</th>\n",
       "    </tr>\n",
       "    <tr>\n",
       "      <th>Date</th>\n",
       "      <th></th>\n",
       "      <th></th>\n",
       "      <th></th>\n",
       "      <th></th>\n",
       "    </tr>\n",
       "  </thead>\n",
       "  <tbody>\n",
       "    <tr>\n",
       "      <th>2023-12-21</th>\n",
       "      <td>0.007984</td>\n",
       "      <td>0.011521</td>\n",
       "      <td>0.020837</td>\n",
       "      <td>0.010535</td>\n",
       "    </tr>\n",
       "    <tr>\n",
       "      <th>2023-12-22</th>\n",
       "      <td>0.014852</td>\n",
       "      <td>0.004817</td>\n",
       "      <td>0.042184</td>\n",
       "      <td>0.004320</td>\n",
       "    </tr>\n",
       "    <tr>\n",
       "      <th>2023-12-26</th>\n",
       "      <td>0.002927</td>\n",
       "      <td>0.004566</td>\n",
       "      <td>-0.014286</td>\n",
       "      <td>0.005876</td>\n",
       "    </tr>\n",
       "    <tr>\n",
       "      <th>2023-12-27</th>\n",
       "      <td>0.007782</td>\n",
       "      <td>0.002273</td>\n",
       "      <td>-0.019324</td>\n",
       "      <td>0.004950</td>\n",
       "    </tr>\n",
       "    <tr>\n",
       "      <th>2023-12-28</th>\n",
       "      <td>0.000965</td>\n",
       "      <td>0.002268</td>\n",
       "      <td>-0.007389</td>\n",
       "      <td>-0.000067</td>\n",
       "    </tr>\n",
       "  </tbody>\n",
       "</table>\n",
       "</div>"
      ],
      "text/plain": [
       "Ticker      ITSA4.SA  KLBN3.SA  RAIZ4.SA     ^BVSP\n",
       "Date                                              \n",
       "2023-12-21  0.007984  0.011521  0.020837  0.010535\n",
       "2023-12-22  0.014852  0.004817  0.042184  0.004320\n",
       "2023-12-26  0.002927  0.004566 -0.014286  0.005876\n",
       "2023-12-27  0.007782  0.002273 -0.019324  0.004950\n",
       "2023-12-28  0.000965  0.002268 -0.007389 -0.000067"
      ]
     },
     "execution_count": 18,
     "metadata": {},
     "output_type": "execute_result"
    }
   ],
   "source": [
    "ind_return.tail()"
   ]
  },
  {
   "cell_type": "markdown",
   "metadata": {},
   "source": [
    "How would you interpret the behavior of the stocks? Just by looking at the chart, would you be able to create a portfolio that provides a solid return on investment?"
   ]
  },
  {
   "cell_type": "markdown",
   "metadata": {},
   "source": [
    "*****"
   ]
  },
  {
   "cell_type": "markdown",
   "metadata": {},
   "source": [
    "### Calculating the Return of a Portfolio of Securities"
   ]
  },
  {
   "cell_type": "markdown",
   "metadata": {},
   "source": [
    "Obtain the simple return of the securities in the portfolio and store the results in a new table."
   ]
  },
  {
   "cell_type": "code",
   "execution_count": 20,
   "metadata": {
    "collapsed": true
   },
   "outputs": [
    {
     "data": {
      "text/plain": [
       "Ticker\n",
       "ITSA4.SA    0.359087\n",
       "KLBN3.SA    0.188306\n",
       "RAIZ4.SA    0.287415\n",
       "^BVSP       0.249353\n",
       "dtype: float64"
      ]
     },
     "execution_count": 20,
     "metadata": {},
     "output_type": "execute_result"
    }
   ],
   "source": [
    "anual_return = ind_return.mean() * 250\n",
    "\n",
    "anual_return"
   ]
  },
  {
   "cell_type": "markdown",
   "metadata": {},
   "source": [
    "First, assume you would like to create an equally-weighted portfolio. Create the array, naming it “weights”."
   ]
  },
  {
   "cell_type": "code",
   "execution_count": null,
   "metadata": {
    "collapsed": true
   },
   "outputs": [],
   "source": []
  },
  {
   "cell_type": "markdown",
   "metadata": {},
   "source": [
    "Obtain the annual returns of each of the stocks and then calculate the dot product of these returns and the weights."
   ]
  },
  {
   "cell_type": "code",
   "execution_count": null,
   "metadata": {
    "collapsed": true
   },
   "outputs": [],
   "source": []
  },
  {
   "cell_type": "code",
   "execution_count": null,
   "metadata": {
    "collapsed": true
   },
   "outputs": [],
   "source": []
  },
  {
   "cell_type": "markdown",
   "metadata": {},
   "source": [
    "Transform the result into a percentage form. "
   ]
  },
  {
   "cell_type": "code",
   "execution_count": null,
   "metadata": {
    "collapsed": true
   },
   "outputs": [],
   "source": []
  },
  {
   "cell_type": "markdown",
   "metadata": {},
   "source": [
    "Is the return of this portfolio satisfactory?"
   ]
  }
 ],
 "metadata": {
  "kernelspec": {
   "display_name": "Python 3",
   "language": "python",
   "name": "python3"
  },
  "language_info": {
   "codemirror_mode": {
    "name": "ipython",
    "version": 3
   },
   "file_extension": ".py",
   "mimetype": "text/x-python",
   "name": "python",
   "nbconvert_exporter": "python",
   "pygments_lexer": "ipython3",
   "version": "3.12.1"
  }
 },
 "nbformat": 4,
 "nbformat_minor": 2
}
