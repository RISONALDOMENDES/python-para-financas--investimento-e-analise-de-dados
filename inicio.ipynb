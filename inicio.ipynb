{
 "cells": [
  {
   "cell_type": "code",
   "execution_count": 3,
   "metadata": {},
   "outputs": [],
   "source": [
    "def plus_ten(a):\n",
    "    return a + 10"
   ]
  },
  {
   "cell_type": "code",
   "execution_count": 4,
   "metadata": {},
   "outputs": [
    {
     "data": {
      "text/plain": [
       "12"
      ]
     },
     "execution_count": 4,
     "metadata": {},
     "output_type": "execute_result"
    }
   ],
   "source": [
    "plus_ten(2)"
   ]
  },
  {
   "cell_type": "code",
   "execution_count": 5,
   "metadata": {},
   "outputs": [
    {
     "data": {
      "text/plain": [
       "15"
      ]
     },
     "execution_count": 5,
     "metadata": {},
     "output_type": "execute_result"
    }
   ],
   "source": [
    "plus_ten(5)"
   ]
  },
  {
   "cell_type": "code",
   "execution_count": 7,
   "metadata": {},
   "outputs": [],
   "source": [
    "def plus_ten(a):\n",
    "    result = a + 10\n",
    "    print(\"outcome:\")\n",
    "    return result"
   ]
  },
  {
   "cell_type": "code",
   "execution_count": 8,
   "metadata": {},
   "outputs": [
    {
     "name": "stdout",
     "output_type": "stream",
     "text": [
      "outcome:\n"
     ]
    },
    {
     "data": {
      "text/plain": [
       "12"
      ]
     },
     "execution_count": 8,
     "metadata": {},
     "output_type": "execute_result"
    }
   ],
   "source": [
    "plus_ten(2)"
   ]
  },
  {
   "cell_type": "code",
   "execution_count": 1,
   "metadata": {},
   "outputs": [],
   "source": [
    "def wage(w_hours):\n",
    "    return w_hours * 25\n",
    "\n",
    "def with_bonus(w_hours):\n",
    "    return wage(w_hours) + 50"
   ]
  },
  {
   "cell_type": "code",
   "execution_count": 2,
   "metadata": {},
   "outputs": [
    {
     "data": {
      "text/plain": [
       "(200, 250)"
      ]
     },
     "execution_count": 2,
     "metadata": {},
     "output_type": "execute_result"
    }
   ],
   "source": [
    "wage(8), with_bonus(8)"
   ]
  },
  {
   "cell_type": "code",
   "execution_count": 21,
   "metadata": {},
   "outputs": [],
   "source": [
    "import pandas as pd\n",
    "import numpy as np\n",
    "from pandas_datareader import data as wb\n",
    "import yfinance as yf\n",
    "\n"
   ]
  },
  {
   "cell_type": "code",
   "execution_count": 16,
   "metadata": {},
   "outputs": [],
   "source": [
    "ser = pd.Series(np.random.random(5), name = \"colunms\")"
   ]
  },
  {
   "cell_type": "code",
   "execution_count": 23,
   "metadata": {},
   "outputs": [
    {
     "name": "stdout",
     "output_type": "stream",
     "text": [
      "Breakdown                          Value\n",
      "insidersPercentHeld              0.00093\n",
      "institutionsPercentHeld          0.67388\n",
      "institutionsFloatPercentHeld     0.67451\n",
      "institutionsCount             4357.00000\n"
     ]
    }
   ],
   "source": [
    "#PG = wb.DataReader('PG', data_source='google', start='2000-1-1')\n",
    "\n",
    "data = yf.Ticker(\"PG\")\n",
    "\n",
    "print(data.major_holders)\n"
   ]
  },
  {
   "cell_type": "code",
   "execution_count": 24,
   "metadata": {},
   "outputs": [
    {
     "name": "stdout",
     "output_type": "stream",
     "text": [
      "  Date Reported                            Holder  pctHeld     Shares  \\\n",
      "0    2023-06-30                Vanguard Group Inc   0.0954  224950896   \n",
      "1    2023-06-30                    Blackrock Inc.   0.0672  158336762   \n",
      "2    2023-06-30          State Street Corporation   0.0437  103104467   \n",
      "3    2023-06-30     Geode Capital Management, LLC   0.0191   45120728   \n",
      "4    2023-06-30                    Morgan Stanley   0.0191   45088952   \n",
      "5    2023-06-30  Wellington Management Group, LLP   0.0138   32561356   \n",
      "6    2023-06-30       Bank of America Corporation   0.0134   31574528   \n",
      "7    2023-06-30        Northern Trust Corporation   0.0122   28642288   \n",
      "8    2023-06-30     Price (T.Rowe) Associates Inc   0.0108   25531767   \n",
      "9    2023-06-30                          FMR, LLC   0.0105   24760338   \n",
      "\n",
      "         Value  \n",
      "0  34134048959  \n",
      "1  24026020265  \n",
      "2  15645071822  \n",
      "3   6846619266  \n",
      "4   6841797576  \n",
      "5   4940860159  \n",
      "6   4791118878  \n",
      "7   4346180781  \n",
      "8   3874190324  \n",
      "9   3757133688  \n"
     ]
    }
   ],
   "source": [
    "print(data.institutional_holders)"
   ]
  },
  {
   "cell_type": "code",
   "execution_count": 35,
   "metadata": {},
   "outputs": [
    {
     "name": "stdout",
     "output_type": "stream",
     "text": [
      "  period  strongBuy  buy  hold  sell  strongSell\n",
      "0     0m          6    4    10     2           0\n",
      "1    -1m          5   11    10     0           0\n",
      "2    -2m          5   11    10     0           0\n",
      "3    -3m          3    9    10     0           1\n"
     ]
    }
   ],
   "source": [
    "x = data.recommendations\n",
    "#x = x[x.index > '2021-06-01']\n",
    "print(x)"
   ]
  },
  {
   "cell_type": "code",
   "execution_count": 30,
   "metadata": {},
   "outputs": [
    {
     "name": "stdout",
     "output_type": "stream",
     "text": [
      "                                 Open        High         Low       Close  \\\n",
      "Date                                                                        \n",
      "2024-01-16 00:00:00-05:00  149.207671  150.549205  147.945652  148.849930   \n",
      "2024-01-17 00:00:00-05:00  148.223905  149.654870  148.074837  148.999008   \n",
      "2024-01-18 00:00:00-05:00  148.229996  148.399994  146.919998  148.139999   \n",
      "2024-01-19 00:00:00-05:00  148.250000  148.619995  147.309998  147.570007   \n",
      "2024-01-22 00:00:00-05:00  146.970001  148.210007  146.279999  147.860001   \n",
      "2024-01-23 00:00:00-05:00  153.110001  156.399994  152.889999  153.979996   \n",
      "2024-01-24 00:00:00-05:00  153.929993  154.229996  152.089996  152.119995   \n",
      "2024-01-25 00:00:00-05:00  152.399994  155.660004  152.059998  155.619995   \n",
      "2024-01-26 00:00:00-05:00  155.809998  156.160004  155.339996  156.139999   \n",
      "2024-01-29 00:00:00-05:00  156.679993  157.330002  155.399994  156.160004   \n",
      "2024-01-30 00:00:00-05:00  156.339996  157.919998  155.820007  157.490005   \n",
      "2024-01-31 00:00:00-05:00  157.990005  158.500000  156.699997  157.139999   \n",
      "2024-02-01 00:00:00-05:00  156.770004  159.300003  156.619995  159.179993   \n",
      "2024-02-02 00:00:00-05:00  158.970001  159.600006  157.529999  158.089996   \n",
      "2024-02-05 00:00:00-05:00  158.169998  159.000000  157.559998  158.210007   \n",
      "2024-02-06 00:00:00-05:00  158.309998  159.070007  157.869995  158.960007   \n",
      "2024-02-07 00:00:00-05:00  159.100006  159.830002  158.740005  159.119995   \n",
      "2024-02-08 00:00:00-05:00  158.800003  159.100006  157.770004  158.639999   \n",
      "2024-02-09 00:00:00-05:00  158.259995  158.339996  156.960007  157.419998   \n",
      "2024-02-12 00:00:00-05:00  157.360001  157.610001  155.490005  157.110001   \n",
      "2024-02-13 00:00:00-05:00  157.750000  158.970001  155.479996  156.270004   \n",
      "2024-02-14 00:00:00-05:00  156.160004  156.160004  154.910004  155.630005   \n",
      "2024-02-15 00:00:00-05:00  156.300003  157.419998  156.149994  157.009995   \n",
      "\n",
      "                             Volume  Dividends  Stock Splits  \n",
      "Date                                                          \n",
      "2024-01-16 00:00:00-05:00   8120100      0.000           0.0  \n",
      "2024-01-17 00:00:00-05:00   6541400      0.000           0.0  \n",
      "2024-01-18 00:00:00-05:00   6526200      0.941           0.0  \n",
      "2024-01-19 00:00:00-05:00   7738600      0.000           0.0  \n",
      "2024-01-22 00:00:00-05:00  11084100      0.000           0.0  \n",
      "2024-01-23 00:00:00-05:00  19101600      0.000           0.0  \n",
      "2024-01-24 00:00:00-05:00  11592700      0.000           0.0  \n",
      "2024-01-25 00:00:00-05:00  10352500      0.000           0.0  \n",
      "2024-01-26 00:00:00-05:00   8356600      0.000           0.0  \n",
      "2024-01-29 00:00:00-05:00   8987400      0.000           0.0  \n",
      "2024-01-30 00:00:00-05:00   7794700      0.000           0.0  \n",
      "2024-01-31 00:00:00-05:00   8870000      0.000           0.0  \n",
      "2024-02-01 00:00:00-05:00   7601100      0.000           0.0  \n",
      "2024-02-02 00:00:00-05:00   7937700      0.000           0.0  \n",
      "2024-02-05 00:00:00-05:00   6931900      0.000           0.0  \n",
      "2024-02-06 00:00:00-05:00   6185400      0.000           0.0  \n",
      "2024-02-07 00:00:00-05:00   7209300      0.000           0.0  \n",
      "2024-02-08 00:00:00-05:00   6121600      0.000           0.0  \n",
      "2024-02-09 00:00:00-05:00   5978000      0.000           0.0  \n",
      "2024-02-12 00:00:00-05:00   5482000      0.000           0.0  \n",
      "2024-02-13 00:00:00-05:00   6046800      0.000           0.0  \n",
      "2024-02-14 00:00:00-05:00   5727300      0.000           0.0  \n",
      "2024-02-15 00:00:00-05:00   5968919      0.000           0.0  \n"
     ]
    }
   ],
   "source": [
    "print(data.history())"
   ]
  },
  {
   "cell_type": "code",
   "execution_count": 39,
   "metadata": {},
   "outputs": [
    {
     "ename": "NameError",
     "evalue": "name 'pg' is not defined",
     "output_type": "error",
     "traceback": [
      "\u001b[1;31m---------------------------------------------------------------------------\u001b[0m",
      "\u001b[1;31mNameError\u001b[0m                                 Traceback (most recent call last)",
      "Cell \u001b[1;32mIn[39], line 1\u001b[0m\n\u001b[1;32m----> 1\u001b[0m \u001b[43mpg\u001b[49m\u001b[38;5;241m.\u001b[39mtail()\n",
      "\u001b[1;31mNameError\u001b[0m: name 'pg' is not defined"
     ]
    }
   ],
   "source": [
    "pg.tail()"
   ]
  }
 ],
 "metadata": {
  "kernelspec": {
   "display_name": "Python 3",
   "language": "python",
   "name": "python3"
  },
  "language_info": {
   "codemirror_mode": {
    "name": "ipython",
    "version": 3
   },
   "file_extension": ".py",
   "mimetype": "text/x-python",
   "name": "python",
   "nbconvert_exporter": "python",
   "pygments_lexer": "ipython3",
   "version": "3.12.1"
  }
 },
 "nbformat": 4,
 "nbformat_minor": 2
}
