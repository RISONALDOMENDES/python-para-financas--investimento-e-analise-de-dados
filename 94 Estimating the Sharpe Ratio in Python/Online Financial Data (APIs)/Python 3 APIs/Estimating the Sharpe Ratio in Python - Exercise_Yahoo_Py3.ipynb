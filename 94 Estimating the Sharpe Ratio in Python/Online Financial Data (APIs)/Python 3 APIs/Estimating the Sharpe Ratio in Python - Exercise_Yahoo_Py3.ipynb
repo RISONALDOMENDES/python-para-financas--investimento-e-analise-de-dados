{
 "cells": [
  {
   "cell_type": "markdown",
   "metadata": {},
   "source": [
    "## Estimating the Sharpe Ratio in Python"
   ]
  },
  {
   "cell_type": "markdown",
   "metadata": {},
   "source": [
    "*Suggested Answers follow (usually there are multiple ways to solve a problem in Python).*"
   ]
  },
  {
   "cell_type": "markdown",
   "metadata": {},
   "source": [
    "Obtain data for Microsoft and S&P 500 for the period 1st of January 2012 – 31st of December 2016 from Yahoo Finance. \n",
    "Let S&P 500 act as the market. \n",
    "Calculate the beta of Microsoft. <br />\n",
    "\n",
    "Assume a risk-free rate of 2.5% and a risk premium of 5%.<br />\n",
    "Estimate the expected return of Microsoft.\n",
    "\n"
   ]
  },
  {
   "cell_type": "markdown",
   "metadata": {},
   "source": [
    "### Pegando dados pelo yfinance"
   ]
  },
  {
   "cell_type": "code",
   "execution_count": 8,
   "metadata": {},
   "outputs": [
    {
     "name": "stderr",
     "output_type": "stream",
     "text": [
      "[*********************100%%**********************]  2 of 2 completed\n"
     ]
    },
    {
     "data": {
      "text/html": [
       "<div>\n",
       "<style scoped>\n",
       "    .dataframe tbody tr th:only-of-type {\n",
       "        vertical-align: middle;\n",
       "    }\n",
       "\n",
       "    .dataframe tbody tr th {\n",
       "        vertical-align: top;\n",
       "    }\n",
       "\n",
       "    .dataframe thead th {\n",
       "        text-align: right;\n",
       "    }\n",
       "</style>\n",
       "<table border=\"1\" class=\"dataframe\">\n",
       "  <thead>\n",
       "    <tr style=\"text-align: right;\">\n",
       "      <th>Ticker</th>\n",
       "      <th>MSFT</th>\n",
       "      <th>^GSPC</th>\n",
       "    </tr>\n",
       "    <tr>\n",
       "      <th>Date</th>\n",
       "      <th></th>\n",
       "      <th></th>\n",
       "    </tr>\n",
       "  </thead>\n",
       "  <tbody>\n",
       "    <tr>\n",
       "      <th>2020-01-02</th>\n",
       "      <td>154.215683</td>\n",
       "      <td>3257.850098</td>\n",
       "    </tr>\n",
       "    <tr>\n",
       "      <th>2020-01-03</th>\n",
       "      <td>152.295380</td>\n",
       "      <td>3234.850098</td>\n",
       "    </tr>\n",
       "    <tr>\n",
       "      <th>2020-01-06</th>\n",
       "      <td>152.689072</td>\n",
       "      <td>3246.280029</td>\n",
       "    </tr>\n",
       "    <tr>\n",
       "      <th>2020-01-07</th>\n",
       "      <td>151.296875</td>\n",
       "      <td>3237.179932</td>\n",
       "    </tr>\n",
       "    <tr>\n",
       "      <th>2020-01-08</th>\n",
       "      <td>153.706818</td>\n",
       "      <td>3253.050049</td>\n",
       "    </tr>\n",
       "    <tr>\n",
       "      <th>...</th>\n",
       "      <td>...</td>\n",
       "      <td>...</td>\n",
       "    </tr>\n",
       "    <tr>\n",
       "      <th>2023-12-22</th>\n",
       "      <td>373.215393</td>\n",
       "      <td>4754.629883</td>\n",
       "    </tr>\n",
       "    <tr>\n",
       "      <th>2023-12-26</th>\n",
       "      <td>373.295135</td>\n",
       "      <td>4774.750000</td>\n",
       "    </tr>\n",
       "    <tr>\n",
       "      <th>2023-12-27</th>\n",
       "      <td>372.707275</td>\n",
       "      <td>4781.580078</td>\n",
       "    </tr>\n",
       "    <tr>\n",
       "      <th>2023-12-28</th>\n",
       "      <td>373.912842</td>\n",
       "      <td>4783.350098</td>\n",
       "    </tr>\n",
       "    <tr>\n",
       "      <th>2023-12-29</th>\n",
       "      <td>374.670074</td>\n",
       "      <td>4769.830078</td>\n",
       "    </tr>\n",
       "  </tbody>\n",
       "</table>\n",
       "<p>1006 rows × 2 columns</p>\n",
       "</div>"
      ],
      "text/plain": [
       "Ticker            MSFT        ^GSPC\n",
       "Date                               \n",
       "2020-01-02  154.215683  3257.850098\n",
       "2020-01-03  152.295380  3234.850098\n",
       "2020-01-06  152.689072  3246.280029\n",
       "2020-01-07  151.296875  3237.179932\n",
       "2020-01-08  153.706818  3253.050049\n",
       "...                ...          ...\n",
       "2023-12-22  373.215393  4754.629883\n",
       "2023-12-26  373.295135  4774.750000\n",
       "2023-12-27  372.707275  4781.580078\n",
       "2023-12-28  373.912842  4783.350098\n",
       "2023-12-29  374.670074  4769.830078\n",
       "\n",
       "[1006 rows x 2 columns]"
      ]
     },
     "metadata": {},
     "output_type": "display_data"
    }
   ],
   "source": [
    "import numpy as np\n",
    "import pandas as pd\n",
    "import yfinance as yf\n",
    "\n",
    "\n",
    "tickers = ['MSFT', '^GSPC']\n",
    "\n",
    "\n",
    "data = yf.download(tickers, start='2020-1-1', end='2023-12-31')['Adj Close']  \n",
    "display(data) \n",
    "sec_returns = np.log( data / data.shift(1) )\n",
    "cov = sec_returns.cov() * 250\n",
    "cov_with_market = cov.iloc[0,1]\n",
    "market_var = sec_returns['^GSPC'].var() * 250\n",
    "\n",
    "MSFT_beta = cov_with_market / market_var\n",
    "MSFT_er = 0.025 + MSFT_beta * 0.05"
   ]
  },
  {
   "cell_type": "markdown",
   "metadata": {},
   "source": [
    "Calculate the Sharpe ratio in Python."
   ]
  },
  {
   "cell_type": "markdown",
   "metadata": {},
   "source": [
    "**Sharpe ratio:**\n",
    "### $$\n",
    "Sharpe = \\frac{\\overline{r_{pg}} - r_f}{\\sigma_{pg}}\n",
    "$$"
   ]
  },
  {
   "cell_type": "code",
   "execution_count": 9,
   "metadata": {},
   "outputs": [
    {
     "data": {
      "text/plain": [
       "0.1801130995234204"
      ]
     },
     "execution_count": 9,
     "metadata": {},
     "output_type": "execute_result"
    }
   ],
   "source": [
    "sharpe = (MSFT_er - 0.025) / (sec_returns['MSFT'].std() * 250 ** 0.5)\n",
    "sharpe"
   ]
  }
 ],
 "metadata": {
  "anaconda-cloud": {},
  "kernelspec": {
   "display_name": "Python 3",
   "language": "python",
   "name": "python3"
  },
  "language_info": {
   "codemirror_mode": {
    "name": "ipython",
    "version": 3
   },
   "file_extension": ".py",
   "mimetype": "text/x-python",
   "name": "python",
   "nbconvert_exporter": "python",
   "pygments_lexer": "ipython3",
   "version": "3.12.1"
  }
 },
 "nbformat": 4,
 "nbformat_minor": 1
}
